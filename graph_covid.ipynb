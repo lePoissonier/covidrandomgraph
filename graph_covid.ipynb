{
 "cells": [
  {
   "cell_type": "code",
   "execution_count": 1,
   "metadata": {},
   "outputs": [],
   "source": [
    "import sqlite3\n",
    "import pandas as pd \n",
    "import numpy as np\n",
    "import matplotlib.pyplot as plt\n",
    "\n",
    "%matplotlib notebook"
   ]
  },
  {
   "cell_type": "code",
   "execution_count": 2,
   "metadata": {},
   "outputs": [],
   "source": [
    "plt.style.use('seaborn-colorblind')"
   ]
  },
  {
   "cell_type": "code",
   "execution_count": 3,
   "metadata": {},
   "outputs": [],
   "source": [
    "cnx = sqlite3.connect('covid_data.db')\n",
    "\n",
    "df_rdc = pd.read_sql_query(\"SELECT * FROM rdc ORDER BY cc ASC\", cnx)\n",
    "df_usa = pd.read_sql_query(\"SELECT * FROM italie ORDER BY cc ASC\", cnx)\n",
    "df_ita = pd.read_sql_query(\"SELECT * FROM usa ORDER BY cc ASC\", cnx)\n",
    "\n",
    "df_rdc = df_rdc.set_index(['lesdates'])\n",
    "df_usa = df_usa.set_index(['lesdates'])\n",
    "df_ita = df_ita.set_index(['lesdates'])\n"
   ]
  },
  {
   "cell_type": "code",
   "execution_count": 4,
   "metadata": {},
   "outputs": [
    {
     "data": {
      "text/html": [
       "<div>\n",
       "<style scoped>\n",
       "    .dataframe tbody tr th:only-of-type {\n",
       "        vertical-align: middle;\n",
       "    }\n",
       "\n",
       "    .dataframe tbody tr th {\n",
       "        vertical-align: top;\n",
       "    }\n",
       "\n",
       "    .dataframe thead th {\n",
       "        text-align: right;\n",
       "    }\n",
       "</style>\n",
       "<table border=\"1\" class=\"dataframe\">\n",
       "  <thead>\n",
       "    <tr style=\"text-align: right;\">\n",
       "      <th></th>\n",
       "      <th>cc</th>\n",
       "      <th>deces</th>\n",
       "      <th>guerisons</th>\n",
       "    </tr>\n",
       "    <tr>\n",
       "      <th>lesdates</th>\n",
       "      <th></th>\n",
       "      <th></th>\n",
       "      <th></th>\n",
       "    </tr>\n",
       "  </thead>\n",
       "  <tbody>\n",
       "    <tr>\n",
       "      <th>10/03</th>\n",
       "      <td>1</td>\n",
       "      <td>0</td>\n",
       "      <td>0</td>\n",
       "    </tr>\n",
       "    <tr>\n",
       "      <th>21/03</th>\n",
       "      <td>23</td>\n",
       "      <td>1</td>\n",
       "      <td>0</td>\n",
       "    </tr>\n",
       "    <tr>\n",
       "      <th>24/03</th>\n",
       "      <td>45</td>\n",
       "      <td>2</td>\n",
       "      <td>1</td>\n",
       "    </tr>\n",
       "    <tr>\n",
       "      <th>27/03</th>\n",
       "      <td>46</td>\n",
       "      <td>2</td>\n",
       "      <td>1</td>\n",
       "    </tr>\n",
       "    <tr>\n",
       "      <th>29/03</th>\n",
       "      <td>48</td>\n",
       "      <td>16</td>\n",
       "      <td>18</td>\n",
       "    </tr>\n",
       "    <tr>\n",
       "      <th>03/04</th>\n",
       "      <td>50</td>\n",
       "      <td>20</td>\n",
       "      <td>18</td>\n",
       "    </tr>\n",
       "    <tr>\n",
       "      <th>15/04</th>\n",
       "      <td>287</td>\n",
       "      <td>23</td>\n",
       "      <td>25</td>\n",
       "    </tr>\n",
       "    <tr>\n",
       "      <th>21/04</th>\n",
       "      <td>359</td>\n",
       "      <td>25</td>\n",
       "      <td>45</td>\n",
       "    </tr>\n",
       "    <tr>\n",
       "      <th>30/04</th>\n",
       "      <td>572</td>\n",
       "      <td>31</td>\n",
       "      <td>73</td>\n",
       "    </tr>\n",
       "    <tr>\n",
       "      <th>02/05</th>\n",
       "      <td>674</td>\n",
       "      <td>33</td>\n",
       "      <td>75</td>\n",
       "    </tr>\n",
       "  </tbody>\n",
       "</table>\n",
       "</div>"
      ],
      "text/plain": [
       "           cc  deces  guerisons\n",
       "lesdates                       \n",
       "10/03       1      0          0\n",
       "21/03      23      1          0\n",
       "24/03      45      2          1\n",
       "27/03      46      2          1\n",
       "29/03      48     16         18\n",
       "03/04      50     20         18\n",
       "15/04     287     23         25\n",
       "21/04     359     25         45\n",
       "30/04     572     31         73\n",
       "02/05     674     33         75"
      ]
     },
     "execution_count": 4,
     "metadata": {},
     "output_type": "execute_result"
    }
   ],
   "source": [
    "df_rdc\n",
    "\n",
    "# cc = cas confirmés"
   ]
  },
  {
   "cell_type": "code",
   "execution_count": 5,
   "metadata": {},
   "outputs": [
    {
     "data": {
      "text/html": [
       "<div>\n",
       "<style scoped>\n",
       "    .dataframe tbody tr th:only-of-type {\n",
       "        vertical-align: middle;\n",
       "    }\n",
       "\n",
       "    .dataframe tbody tr th {\n",
       "        vertical-align: top;\n",
       "    }\n",
       "\n",
       "    .dataframe thead th {\n",
       "        text-align: right;\n",
       "    }\n",
       "</style>\n",
       "<table border=\"1\" class=\"dataframe\">\n",
       "  <thead>\n",
       "    <tr style=\"text-align: right;\">\n",
       "      <th></th>\n",
       "      <th>cc</th>\n",
       "      <th>deces</th>\n",
       "      <th>guerisons</th>\n",
       "    </tr>\n",
       "    <tr>\n",
       "      <th>lesdates</th>\n",
       "      <th></th>\n",
       "      <th></th>\n",
       "      <th></th>\n",
       "    </tr>\n",
       "  </thead>\n",
       "  <tbody>\n",
       "    <tr>\n",
       "      <th>01/03</th>\n",
       "      <td>1694</td>\n",
       "      <td>29</td>\n",
       "      <td>0</td>\n",
       "    </tr>\n",
       "    <tr>\n",
       "      <th>07/03</th>\n",
       "      <td>5883</td>\n",
       "      <td>233</td>\n",
       "      <td>589</td>\n",
       "    </tr>\n",
       "    <tr>\n",
       "      <th>14/03</th>\n",
       "      <td>21157</td>\n",
       "      <td>1441</td>\n",
       "      <td>1966</td>\n",
       "    </tr>\n",
       "    <tr>\n",
       "      <th>21/03</th>\n",
       "      <td>53578</td>\n",
       "      <td>4825</td>\n",
       "      <td>6072</td>\n",
       "    </tr>\n",
       "    <tr>\n",
       "      <th>28/03</th>\n",
       "      <td>92472</td>\n",
       "      <td>10023</td>\n",
       "      <td>12384</td>\n",
       "    </tr>\n",
       "    <tr>\n",
       "      <th>04/04</th>\n",
       "      <td>124632</td>\n",
       "      <td>15362</td>\n",
       "      <td>20996</td>\n",
       "    </tr>\n",
       "    <tr>\n",
       "      <th>11/04</th>\n",
       "      <td>152271</td>\n",
       "      <td>19468</td>\n",
       "      <td>32534</td>\n",
       "    </tr>\n",
       "    <tr>\n",
       "      <th>18/04</th>\n",
       "      <td>175925</td>\n",
       "      <td>23227</td>\n",
       "      <td>44927</td>\n",
       "    </tr>\n",
       "    <tr>\n",
       "      <th>25/04</th>\n",
       "      <td>195351</td>\n",
       "      <td>26384</td>\n",
       "      <td>63120</td>\n",
       "    </tr>\n",
       "    <tr>\n",
       "      <th>02/05</th>\n",
       "      <td>209328</td>\n",
       "      <td>28710</td>\n",
       "      <td>79914</td>\n",
       "    </tr>\n",
       "  </tbody>\n",
       "</table>\n",
       "</div>"
      ],
      "text/plain": [
       "              cc  deces  guerisons\n",
       "lesdates                          \n",
       "01/03       1694     29          0\n",
       "07/03       5883    233        589\n",
       "14/03      21157   1441       1966\n",
       "21/03      53578   4825       6072\n",
       "28/03      92472  10023      12384\n",
       "04/04     124632  15362      20996\n",
       "11/04     152271  19468      32534\n",
       "18/04     175925  23227      44927\n",
       "25/04     195351  26384      63120\n",
       "02/05     209328  28710      79914"
      ]
     },
     "execution_count": 5,
     "metadata": {},
     "output_type": "execute_result"
    }
   ],
   "source": [
    "df_usa"
   ]
  },
  {
   "cell_type": "code",
   "execution_count": 6,
   "metadata": {},
   "outputs": [
    {
     "data": {
      "text/html": [
       "<div>\n",
       "<style scoped>\n",
       "    .dataframe tbody tr th:only-of-type {\n",
       "        vertical-align: middle;\n",
       "    }\n",
       "\n",
       "    .dataframe tbody tr th {\n",
       "        vertical-align: top;\n",
       "    }\n",
       "\n",
       "    .dataframe thead th {\n",
       "        text-align: right;\n",
       "    }\n",
       "</style>\n",
       "<table border=\"1\" class=\"dataframe\">\n",
       "  <thead>\n",
       "    <tr style=\"text-align: right;\">\n",
       "      <th></th>\n",
       "      <th>cc</th>\n",
       "      <th>deces</th>\n",
       "      <th>guerisons</th>\n",
       "    </tr>\n",
       "    <tr>\n",
       "      <th>lesdates</th>\n",
       "      <th></th>\n",
       "      <th></th>\n",
       "      <th></th>\n",
       "    </tr>\n",
       "  </thead>\n",
       "  <tbody>\n",
       "    <tr>\n",
       "      <th>06/03</th>\n",
       "      <td>148</td>\n",
       "      <td>10</td>\n",
       "      <td>8</td>\n",
       "    </tr>\n",
       "    <tr>\n",
       "      <th>11/03</th>\n",
       "      <td>1010</td>\n",
       "      <td>36</td>\n",
       "      <td>8</td>\n",
       "    </tr>\n",
       "    <tr>\n",
       "      <th>19/03</th>\n",
       "      <td>13816</td>\n",
       "      <td>207</td>\n",
       "      <td>18</td>\n",
       "    </tr>\n",
       "    <tr>\n",
       "      <th>26/03</th>\n",
       "      <td>85996</td>\n",
       "      <td>1300</td>\n",
       "      <td>348</td>\n",
       "    </tr>\n",
       "    <tr>\n",
       "      <th>02/04</th>\n",
       "      <td>242942</td>\n",
       "      <td>5888</td>\n",
       "      <td>9001</td>\n",
       "    </tr>\n",
       "    <tr>\n",
       "      <th>09/04</th>\n",
       "      <td>466033</td>\n",
       "      <td>16690</td>\n",
       "      <td>25410</td>\n",
       "    </tr>\n",
       "    <tr>\n",
       "      <th>16/04</th>\n",
       "      <td>671425</td>\n",
       "      <td>33286</td>\n",
       "      <td>54703</td>\n",
       "    </tr>\n",
       "    <tr>\n",
       "      <th>23/04</th>\n",
       "      <td>869172</td>\n",
       "      <td>49963</td>\n",
       "      <td>80203</td>\n",
       "    </tr>\n",
       "    <tr>\n",
       "      <th>30/04</th>\n",
       "      <td>1070032</td>\n",
       "      <td>63019</td>\n",
       "      <td>153947</td>\n",
       "    </tr>\n",
       "    <tr>\n",
       "      <th>03/05</th>\n",
       "      <td>1158041</td>\n",
       "      <td>67682</td>\n",
       "      <td>180152</td>\n",
       "    </tr>\n",
       "  </tbody>\n",
       "</table>\n",
       "</div>"
      ],
      "text/plain": [
       "               cc  deces  guerisons\n",
       "lesdates                           \n",
       "06/03         148     10          8\n",
       "11/03        1010     36          8\n",
       "19/03       13816    207         18\n",
       "26/03       85996   1300        348\n",
       "02/04      242942   5888       9001\n",
       "09/04      466033  16690      25410\n",
       "16/04      671425  33286      54703\n",
       "23/04      869172  49963      80203\n",
       "30/04     1070032  63019     153947\n",
       "03/05     1158041  67682     180152"
      ]
     },
     "execution_count": 6,
     "metadata": {},
     "output_type": "execute_result"
    }
   ],
   "source": [
    "df_ita"
   ]
  },
  {
   "cell_type": "code",
   "execution_count": 19,
   "metadata": {},
   "outputs": [
    {
     "data": {
      "text/plain": [
       "<matplotlib.legend.Legend at 0x1c94a891518>"
      ]
     },
     "execution_count": 19,
     "metadata": {},
     "output_type": "execute_result"
    },
    {
     "data": {
      "image/png": "[encoded data removed]",
      "text/plain": [
       "<Figure size 864x432 with 1 Axes>"
      ]
     },
     "metadata": {
      "needs_background": "light"
     },
     "output_type": "display_data"
    }
   ],
   "source": [
    "fig_rdc = df_rdc.plot.line(figsize=(12, 6))\n",
    "#title\n",
    "plt.title('l\\'evolution du covid_19 en RDC')\n",
    "plt.xlabel('les dates')\n",
    "plt.legend(['cas confirmés', 'décès', 'guérisosns'])"
   ]
  },
  {
   "cell_type": "code",
   "execution_count": 17,
   "metadata": {},
   "outputs": [
    {
     "data": {
      "text/plain": [
       "<matplotlib.legend.Legend at 0x1c94a7b7b70>"
      ]
     },
     "execution_count": 17,
     "metadata": {},
     "output_type": "execute_result"
    },
    {
     "data": {
      "image/png": "[encoded data removed]",
      "text/plain": [
       "<Figure size 720x288 with 1 Axes>"
      ]
     },
     "metadata": {
      "needs_background": "light"
     },
     "output_type": "display_data"
    }
   ],
   "source": [
    "fig_usa = df_usa.plot.line(figsize=(12, 6))\n",
    "#title\n",
    "plt.title('l\\'evolution du covid_19 au USA')\n",
    "plt.xlabel('les dates')\n",
    "plt.legend(['cas confirmés', 'décès', 'guérisosns'])"
   ]
  },
  {
   "cell_type": "code",
   "execution_count": 20,
   "metadata": {},
   "outputs": [
    {
     "data": {
      "text/plain": [
       "<matplotlib.legend.Legend at 0x1c94aae7da0>"
      ]
     },
     "execution_count": 20,
     "metadata": {},
     "output_type": "execute_result"
    },
    {
     "data": {
      "image/png": "[encoded data removed]",
      "text/plain": [
       "<Figure size 864x432 with 1 Axes>"
      ]
     },
     "metadata": {
      "needs_background": "light"
     },
     "output_type": "display_data"
    }
   ],
   "source": [
    "fig_ita = df_ita.plot.line(figsize=(12, 6))\n",
    "#title\n",
    "plt.title('l\\'evolution du covid_19 en ITALIE')\n",
    "plt.xlabel('les dates')\n",
    "plt.legend(['cas confirmés', 'décès', 'guérisosns'])"
   ]
  },
  {
   "cell_type": "code",
   "execution_count": 16,
   "metadata": {},
   "outputs": [
    {
     "name": "stdout",
     "output_type": "stream",
     "text": [
      "[1665, 5061, 17750, 42681, 70065, 88274, 100269, 107771, 105847, 100704]\n",
      "[1.7, 4.0, 6.8, 9.0, 10.8, 12.3, 12.8, 13.2, 13.5, 13.7]\n"
     ]
    },
    {
     "data": {
      "text/html": [
       "<div>\n",
       "<style scoped>\n",
       "    .dataframe tbody tr th:only-of-type {\n",
       "        vertical-align: middle;\n",
       "    }\n",
       "\n",
       "    .dataframe tbody tr th {\n",
       "        vertical-align: top;\n",
       "    }\n",
       "\n",
       "    .dataframe thead th {\n",
       "        text-align: right;\n",
       "    }\n",
       "</style>\n",
       "<table border=\"1\" class=\"dataframe\">\n",
       "  <thead>\n",
       "    <tr style=\"text-align: right;\">\n",
       "      <th></th>\n",
       "      <th>cc</th>\n",
       "      <th>deces</th>\n",
       "      <th>guerisons</th>\n",
       "      <th>tjrs_infecté</th>\n",
       "      <th>deces_en_%</th>\n",
       "    </tr>\n",
       "    <tr>\n",
       "      <th>lesdates</th>\n",
       "      <th></th>\n",
       "      <th></th>\n",
       "      <th></th>\n",
       "      <th></th>\n",
       "      <th></th>\n",
       "    </tr>\n",
       "  </thead>\n",
       "  <tbody>\n",
       "    <tr>\n",
       "      <th>01/03</th>\n",
       "      <td>1694</td>\n",
       "      <td>29</td>\n",
       "      <td>0</td>\n",
       "      <td>1665</td>\n",
       "      <td>1.7</td>\n",
       "    </tr>\n",
       "    <tr>\n",
       "      <th>07/03</th>\n",
       "      <td>5883</td>\n",
       "      <td>233</td>\n",
       "      <td>589</td>\n",
       "      <td>5061</td>\n",
       "      <td>4.0</td>\n",
       "    </tr>\n",
       "    <tr>\n",
       "      <th>14/03</th>\n",
       "      <td>21157</td>\n",
       "      <td>1441</td>\n",
       "      <td>1966</td>\n",
       "      <td>17750</td>\n",
       "      <td>6.8</td>\n",
       "    </tr>\n",
       "    <tr>\n",
       "      <th>21/03</th>\n",
       "      <td>53578</td>\n",
       "      <td>4825</td>\n",
       "      <td>6072</td>\n",
       "      <td>42681</td>\n",
       "      <td>9.0</td>\n",
       "    </tr>\n",
       "    <tr>\n",
       "      <th>28/03</th>\n",
       "      <td>92472</td>\n",
       "      <td>10023</td>\n",
       "      <td>12384</td>\n",
       "      <td>70065</td>\n",
       "      <td>10.8</td>\n",
       "    </tr>\n",
       "    <tr>\n",
       "      <th>04/04</th>\n",
       "      <td>124632</td>\n",
       "      <td>15362</td>\n",
       "      <td>20996</td>\n",
       "      <td>88274</td>\n",
       "      <td>12.3</td>\n",
       "    </tr>\n",
       "    <tr>\n",
       "      <th>11/04</th>\n",
       "      <td>152271</td>\n",
       "      <td>19468</td>\n",
       "      <td>32534</td>\n",
       "      <td>100269</td>\n",
       "      <td>12.8</td>\n",
       "    </tr>\n",
       "    <tr>\n",
       "      <th>18/04</th>\n",
       "      <td>175925</td>\n",
       "      <td>23227</td>\n",
       "      <td>44927</td>\n",
       "      <td>107771</td>\n",
       "      <td>13.2</td>\n",
       "    </tr>\n",
       "    <tr>\n",
       "      <th>25/04</th>\n",
       "      <td>195351</td>\n",
       "      <td>26384</td>\n",
       "      <td>63120</td>\n",
       "      <td>105847</td>\n",
       "      <td>13.5</td>\n",
       "    </tr>\n",
       "    <tr>\n",
       "      <th>02/05</th>\n",
       "      <td>209328</td>\n",
       "      <td>28710</td>\n",
       "      <td>79914</td>\n",
       "      <td>100704</td>\n",
       "      <td>13.7</td>\n",
       "    </tr>\n",
       "  </tbody>\n",
       "</table>\n",
       "</div>"
      ],
      "text/plain": [
       "              cc  deces  guerisons  tjrs_infecté  deces_en_%\n",
       "lesdates                                                    \n",
       "01/03       1694     29          0          1665         1.7\n",
       "07/03       5883    233        589          5061         4.0\n",
       "14/03      21157   1441       1966         17750         6.8\n",
       "21/03      53578   4825       6072         42681         9.0\n",
       "28/03      92472  10023      12384         70065        10.8\n",
       "04/04     124632  15362      20996         88274        12.3\n",
       "11/04     152271  19468      32534        100269        12.8\n",
       "18/04     175925  23227      44927        107771        13.2\n",
       "25/04     195351  26384      63120        105847        13.5\n",
       "02/05     209328  28710      79914        100704        13.7"
      ]
     },
     "execution_count": 16,
     "metadata": {},
     "output_type": "execute_result"
    }
   ],
   "source": [
    "#adding 'people still infected' and '% of death' in the usa dataframe\n",
    "\n",
    "tm_usa = []\n",
    "ptm_usa = []\n",
    "\n",
    "for x in df_usa.index:\n",
    "    v = df_usa['deces'][x] + df_usa['guerisons'][x]\n",
    "    v = df_usa['cc'][x] - v\n",
    "    tm_usa.append(v)\n",
    "    v2 = df_usa['deces'][x] / df_usa['cc'][x]\n",
    "    v2 = v2 * 100\n",
    "    v2 = round(v2,1)\n",
    "    ptm_usa.append(v2)\n",
    "\n",
    "print(tm_usa)\n",
    "print(ptm_usa)\n",
    "\n",
    "#df_usa = df_usa.assign(tjrs_infecté = tm_usa, pourcentage_tm = ptm_usa)\n",
    "#df_ = df_ .drop(['pourcentage_tm', 'toujours_infecté'], axis=1)\n",
    "#df_usa.rename(columns={'pourcentage_tm':'deces_en_%'}, inplace=True)\n",
    "df_usa"
   ]
  },
  {
   "cell_type": "code",
   "execution_count": null,
   "metadata": {},
   "outputs": [],
   "source": []
  }
 ],
 "metadata": {
  "kernelspec": {
   "display_name": "Python 3",
   "language": "python",
   "name": "python3"
  },
  "language_info": {
   "codemirror_mode": {
    "name": "ipython",
    "version": 3
   },
   "file_extension": ".py",
   "mimetype": "text/x-python",
   "name": "python",
   "nbconvert_exporter": "python",
   "pygments_lexer": "ipython3",
   "version": "3.7.3"
  }
 },
 "nbformat": 4,
 "nbformat_minor": 2
}
